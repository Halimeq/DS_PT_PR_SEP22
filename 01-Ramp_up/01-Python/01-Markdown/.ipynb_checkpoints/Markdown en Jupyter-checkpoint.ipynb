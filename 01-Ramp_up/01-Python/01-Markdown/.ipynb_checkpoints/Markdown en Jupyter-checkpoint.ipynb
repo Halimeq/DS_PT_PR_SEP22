{
 "cells": [
  {
   "cell_type": "markdown",
   "metadata": {},
   "source": [
    "# Markdown\n",
    "\n",
    "\n",
    "### ¿Qué es?\n",
    "Lenguaje de marcado que nos permite aplicar formato a nuestros textos mediante unos caracteres especiales. Muy útil cuando tenemos que documentar algo, escribir un artículo, o entregar un reporte. Este lenguaje está pensado para web, pero es muy común utilizarlo en cualquier tipo de texto, independientemente de su destino.\n",
    "\n",
    "Lo bueno que tiene es que se edita en **texto plano y está integrado en muchísimas herramientas**, como Jupyter Notebook o RStudio.\n",
    "\n",
    "### Markdown vs HTML\n",
    "Tenemos un viejo conocido en cuanto a programación web: HTML. Son lenguajes muy diferentes. Con HTML podemos construir un complejo **árbol de tags**, mientras que markdown se desarrolla en texto plano. Por supuesto, las finalidades también son distintas. HTML se aplica a todo tipo de webs, ya sean sencillas o complejas, mientras que markdown se suele usar para blogs o artículos. Su sencillez a la hora de desarrollar le penaliza en su versatilidad. Pero como el objetivo de este curso no es hacer páginas web, markdown cumple más que de sobra para acompañar y mejorar la comprensión de nuestro código. Además, ya verás a lo largo de este notebook que ambos lenguajes son perfectamente compatibles.\n",
    "\n",
    "### ¿Cómo funciona?\n",
    "Contiene una serie de **caracteres especiales** que le dan forma a los textos. Por ejemplo, si queremos un texto en *cursiva*, simplemente lo rodearemos con asteriscos. Lo veremos en detalle en este Notebook.\n",
    "\n",
    "### ¿De qué nos va a servir?\n",
    "En Jupyter lo normal será crear celdas con código, pero también tenemos la posibilidad de insertar celdas de markdown, donde podremos poner **imágenes, títulos, enumerar texto, listar, citar y mucho más!**"
   ]
  },
  {
   "cell_type": "markdown",
   "metadata": {},
   "source": [
    "## 1. Primera celda\n",
    "Haz doble clik en esta celda y verás cómo cambia el texto. Significa que estás en el **modo edición** de Markdown.\n",
    "\n",
    "Como puedes observar, markdown se edita como si fuese texto plano, y en el caso concreto de los párrafos, no necesita de ningún caracter para que markdown sepa que es un párrafo. Sin embargo, fíjate que para la cabecera \"1.Primer celda\", hay dos hashtags delante que indican que es un encabezado. Veremos en el apartado 2 cómo crear cabeceras.\n",
    "\n",
    "Haz ctrl + enter para ejecuta la celda (o botón de play de arriba). Así abandonamos el modo edición y nuestro texto obtiene el formato que deseábamos.\n",
    "\n",
    "**¡Tu turno!** Crea una celda nueva en el menu de arriba y selecciona la opción Markdown"
   ]
  },
  {
   "attachments": {
    "primera_celda.png": {
     "image/png": "[encoded data removed]"
    }
   },
   "cell_type": "markdown",
   "metadata": {},
   "source": [
    "![primera_celda.png](attachment:primera_celda.png)"
   ]
  },
  {
   "cell_type": "code",
   "execution_count": null,
   "metadata": {},
   "outputs": [],
   "source": [
    "# Esto es código de Python.\n",
    "# Va a ser muy habitual en el curso, acompañar el código de Python mediante celdas de markdown."
   ]
  },
  {
   "cell_type": "markdown",
   "metadata": {},
   "source": [
    "**TIP**: cuando estemos escribiendo markdown, un buen indicador de que lo estamos haciendo bien es que **la letra cambia de color o de forma**. Significa que markdown ha interpretado los simbolos que has puesto. Si estamos escribiendo en cursiva, verás que la letra cambia a cursiva si lo estas haciendo bien. Por supuesto, también podemos ejecutar y ver el resultado, pero si queremos comprobar que la sentencia que escribimos es correcta, tendrás esa opción en Jupyter."
   ]
  },
  {
   "cell_type": "markdown",
   "metadata": {},
   "source": [
    "## 2. Cabeceras\n",
    "Ya has visto que en el apartado anterior usábamos dos hashtag para poner una cabecera. ¿Por qué dos? Cuantos más hashtags, menor es el tamaño del título.\n"
   ]
  },
  {
   "cell_type": "code",
   "execution_count": null,
   "metadata": {},
   "outputs": [],
   "source": []
  },
  {
   "cell_type": "markdown",
   "metadata": {},
   "source": [
    "El tamaño mínimo lo obtenemos con 6 hashtags. Es decir, tenemos hasta 6 niveles de profundidad para aplicar a los apartados de nuestro notebook. Normalmente con 3 o 4 hay más que de sobra, pero también depende del tamaño que queramos darle a las cabeceras."
   ]
  },
  {
   "cell_type": "markdown",
   "metadata": {},
   "source": [
    "## 3. HTML\n",
    "Como te comentaba al principio, una cosa es utilizar markdown y otra HTML. No obstante, markdown nos ofrece la posibilidad de escribir código HTML, dentro de una celda markdown. Si te manejas bien con HTML y quieres insertar una porción de código de este lenguaje, markdown lo va a interpretar.\n"
   ]
  },
  {
   "cell_type": "code",
   "execution_count": null,
   "metadata": {},
   "outputs": [],
   "source": []
  },
  {
   "cell_type": "markdown",
   "metadata": {},
   "source": [
    "## 4. Negrita, cursiva\n",
    "Paara resaltar texto en negrita tenemos que rodearlo con asteriscos. En el caso en que queramos cursiva, será un único asterisco, y si deseamos combinar negrita con cursiva, son 3 asteriscos.\n"
   ]
  },
  {
   "cell_type": "code",
   "execution_count": null,
   "metadata": {},
   "outputs": [],
   "source": []
  },
  {
   "cell_type": "markdown",
   "metadata": {},
   "source": [
    "Cuidado con dejar espacios entre los asteriscos y el texto. Es decir, si queremos escribir en negrita, inmediatamente despues de los asteriscos tiene que ir el texto: ** No es negrita **"
   ]
  },
  {
   "cell_type": "markdown",
   "metadata": {},
   "source": [
    "## 5. Citar\n",
    "En ocasiones resulta útil poner una citación, o una nota, destacándola con un margen. Esto lo podemos hacer mediante el símbolo mayor que \">\"\n"
   ]
  },
  {
   "cell_type": "code",
   "execution_count": null,
   "metadata": {},
   "outputs": [],
   "source": []
  },
  {
   "cell_type": "markdown",
   "metadata": {},
   "source": [
    "## 6. Listas\n",
    "Hay dos opciones. **Listas ordenadas o sin ordenar**. Si queremos listas ordenadas, simplemente usamos números"
   ]
  },
  {
   "cell_type": "code",
   "execution_count": null,
   "metadata": {},
   "outputs": [],
   "source": []
  },
  {
   "cell_type": "markdown",
   "metadata": {},
   "source": [
    "Lista no ordenada"
   ]
  },
  {
   "cell_type": "code",
   "execution_count": null,
   "metadata": {},
   "outputs": [],
   "source": []
  },
  {
   "cell_type": "markdown",
   "metadata": {},
   "source": [
    "## 7. Código de Python\n",
    "Es otra manera de enseñar código. Se suele usar cuando lo único que quieres es mostrar un fragmento de código, pero sin ejecutarlo\n"
   ]
  },
  {
   "cell_type": "code",
   "execution_count": null,
   "metadata": {},
   "outputs": [],
   "source": []
  },
  {
   "cell_type": "markdown",
   "metadata": {},
   "source": [
    "## 8. Líneas de separación\n",
    "Para separar secciones utilizamos líneas horizontales. Hay varias opciones en markdown para insertar una lína horizontal. En este ejemplo se usa o asteriscos o guiones.\n"
   ]
  },
  {
   "cell_type": "code",
   "execution_count": null,
   "metadata": {},
   "outputs": [],
   "source": []
  },
  {
   "cell_type": "markdown",
   "metadata": {},
   "source": [
    "## 9. Links y enlaces\n",
    "Para crear enlaces externos, a páginas web, se usa la sintaxis `[ enlace ] (web)`\n",
    "\n",
    "[enlace en línea](http://www.google.es)\n",
    "\n",
    "Tambien podemos definir [un enlace][mi_web].\n",
    "\n",
    "A una [web][mi_web] a la que podemos referenciar mas adelante\n",
    "\n",
    "[mi_web]: http://www.google.es\n",
    "\n",
    "Por otro lado, podemos definir links que vayan a otras partes del Notebook, como por ejemplo a una cabecera concreta. Si haces clik en [este enlace](#Markdown), volverás al inicio del notebook.Con [este otro enlace](#1.-Primera-celda) vas al primer apartado.\n",
    "\n",
    "¿Cómo linkarlos? Copiamos el nombre de la cabecera, sustituimos espacios por guiones, le añadimos en hashtag al principio, y eso es lo que va dentro de los paréntesis.\n",
    "\n",
    "Si no queremos añadir texto en la celda a la que linkamos, podemos definir un identificador con `<a id=\"CeldaX\"></a>` y referenciarlo con el hashtag: \n",
    "\n",
    "[Ir a celda X](#CeldaX)"
   ]
  },
  {
   "cell_type": "markdown",
   "metadata": {},
   "source": [
    "## 10. Imágenes\n",
    "Si tenemos una imagen en el ordenador, tenemos que decirle a Markdown que apunte a esa imagen. NO se adjuntan imagenes. Lo normal es tener todas las imagenes agrupadas en una carpeta dentro de tu repositorio.\n",
    "\n",
    "Usamos la sintaxis ![ nombre cualqueira](ruta de la imagen)."
   ]
  },
  {
   "cell_type": "markdown",
   "metadata": {},
   "source": [
    "La imagen tiene que estar en la misma carpeta que este notebook, debido a la sintaxis `./imagen.png`. Con el `./` Jupyter entiende que tiene que buscar en la carpeta de este notebook. Si ponemos `../` le indicamos que la imagen está en el directorio anterior:\n",
    "\n",
    "1. `./imagen.png` si la imagen esta en el mismo directorio donde está este Notebook\n",
    "2. `./img/imagen.png` si dentro del directorio donde se encuentra este Notebook, hay una carpeta llamada \"img\", y dentro se encuentra la imagen.\n",
    "3. `../imagen.png` si la imagen que buscamos está en el directorio anterior a donde se encuentra este Notebook."
   ]
  },
  {
   "cell_type": "markdown",
   "metadata": {},
   "source": [
    "#### Imagen en el mismo directorio que el Notebook"
   ]
  },
  {
   "cell_type": "code",
   "execution_count": null,
   "metadata": {},
   "outputs": [],
   "source": []
  },
  {
   "cell_type": "markdown",
   "metadata": {},
   "source": [
    "#### Imagen en el directorio \"img\""
   ]
  },
  {
   "cell_type": "code",
   "execution_count": null,
   "metadata": {},
   "outputs": [],
   "source": []
  },
  {
   "cell_type": "markdown",
   "metadata": {},
   "source": [
    "## 11. Documentación\n",
    "Hay muchísimas guías para escribir markdown en Internet. Con lo visto en este notebook tienes más que de sobra para darle color y forma a tus Notebooks de Python... De Python, de R, documentación para GitHub, tu blog de data scientist... Como te dije al principio, markdown es un lenguaje muy popular al que se le puede sacar mucho jugo.\n",
    "\n",
    "Aun así, si quieres aprender más de este lenguaje, te dejo algunos enlaces interesantes.\n",
    "\n",
    "[Este](https://www.markdownguide.org/basic-syntax/)\n",
    "\n",
    "[Este otro](https://markdown-it.github.io/)\n",
    "\n",
    "[Y este tambien](https://medium.com/analytics-vidhya/the-ultimate-markdown-guide-for-jupyter-notebook-d5e5abf728fd)"
   ]
  },
  {
   "attachments": {},
   "cell_type": "markdown",
   "metadata": {},
   "source": [
    "<img style=\"float: right;\" >\n",
    "![ejercicio.png](attachment:ejercicio.png)\n",
    "## <span style=\"color:red\">**Do it yourself**</span>"
   ]
  },
  {
   "cell_type": "markdown",
   "metadata": {},
   "source": [
    "Vamos a aplicar los conocimientos adquiridos en este notebook, intentando reproducir la siguiente imagen en markdown.   \n",
    "La imagen de python está en la carpeta `img`  \n",
    "En el link va la página: https://www.kaggle.com/\n",
    "\n",
    "**TIP**: en [este enlace](https://www.markdownguide.org/basic-syntax/) tienes más ejemplos, por si te atascas con algo :)"
   ]
  },
  {
   "cell_type": "markdown",
   "metadata": {},
   "source": [
    "![imagen](./img/doit_yourself.png)"
   ]
  }
 ],
 "metadata": {
  "kernelspec": {
   "display_name": "Python 3 (ipykernel)",
   "language": "python",
   "name": "python3"
  },
  "language_info": {
   "codemirror_mode": {
    "name": "ipython",
    "version": 3
   },
   "file_extension": ".py",
   "mimetype": "text/x-python",
   "name": "python",
   "nbconvert_exporter": "python",
   "pygments_lexer": "ipython3",
   "version": "3.9.7"
  }
 },
 "nbformat": 4,
 "nbformat_minor": 4
}
